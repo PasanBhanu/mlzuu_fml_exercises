{
 "cells": [
  {
   "cell_type": "code",
   "id": "initial_id",
   "metadata": {
    "collapsed": true,
    "ExecuteTime": {
     "end_time": "2025-07-20T05:04:55.753876Z",
     "start_time": "2025-07-20T05:04:53.805274Z"
    }
   },
   "source": "!pip install numpy",
   "outputs": [
    {
     "name": "stdout",
     "output_type": "stream",
     "text": [
      "Requirement already satisfied: numpy in d:\\education\\foundations of machine learning\\code - in class\\.venv\\lib\\site-packages (2.3.1)\n"
     ]
    }
   ],
   "execution_count": 1
  },
  {
   "metadata": {
    "ExecuteTime": {
     "end_time": "2025-07-20T05:23:49.585990Z",
     "start_time": "2025-07-20T05:23:49.582772Z"
    }
   },
   "cell_type": "code",
   "source": [
    "import numpy as np\n",
    "import sys"
   ],
   "id": "b915a7c47f0084ab",
   "outputs": [],
   "execution_count": 12
  },
  {
   "metadata": {},
   "cell_type": "markdown",
   "source": "### 1. Array Creation and Properties",
   "id": "ff6001719daefff3"
  },
  {
   "metadata": {},
   "cell_type": "markdown",
   "source": "#### 1.1 Array Creation Methods",
   "id": "77720431bd4bd628"
  },
  {
   "metadata": {
    "ExecuteTime": {
     "end_time": "2025-07-20T05:10:46.009785Z",
     "start_time": "2025-07-20T05:10:46.007230Z"
    }
   },
   "cell_type": "code",
   "source": [
    "price_list = [21000, 56900, 100, 21, 0]\n",
    "price_array = np.array(price_list)"
   ],
   "id": "87d5c900813d83ad",
   "outputs": [],
   "execution_count": 3
  },
  {
   "metadata": {
    "ExecuteTime": {
     "end_time": "2025-07-20T05:10:47.233021Z",
     "start_time": "2025-07-20T05:10:47.229982Z"
    }
   },
   "cell_type": "code",
   "outputs": [
    {
     "name": "stdout",
     "output_type": "stream",
     "text": [
      "From list: [21000, 56900, 100, 21, 0]\n",
      "From array: [21000 56900   100    21     0]\n"
     ]
    }
   ],
   "execution_count": 4,
   "source": [
    "print(f\"From list: {price_list}\")\n",
    "print(f\"From array: {price_array}\")"
   ],
   "id": "c29f6c126b47013d"
  },
  {
   "metadata": {
    "ExecuteTime": {
     "end_time": "2025-07-20T05:12:47.978609Z",
     "start_time": "2025-07-20T05:12:47.974587Z"
    }
   },
   "cell_type": "code",
   "source": "print (f\"Shape {price_array.shape}\")",
   "id": "34c4f4143d1767b2",
   "outputs": [
    {
     "name": "stdout",
     "output_type": "stream",
     "text": [
      "Shape (5,)\n"
     ]
    }
   ],
   "execution_count": 5
  },
  {
   "metadata": {
    "ExecuteTime": {
     "end_time": "2025-07-20T05:14:59.602816Z",
     "start_time": "2025-07-20T05:14:59.598158Z"
    }
   },
   "cell_type": "code",
   "source": [
    "price_list = [[21000], [56900], [100], [21], [0]]\n",
    "price_array = np.array(price_list)\n",
    "print(f\"From list: {price_list}\")\n",
    "print(f\"From array: {price_array}\")\n",
    "print (f\"Shape {price_array.shape}\")"
   ],
   "id": "6a97d5ce84e870a1",
   "outputs": [
    {
     "name": "stdout",
     "output_type": "stream",
     "text": [
      "From list: [[21000], [56900], [100], [21], [0]]\n",
      "From array: [[21000]\n",
      " [56900]\n",
      " [  100]\n",
      " [   21]\n",
      " [    0]]\n",
      "Shape (5, 1)\n"
     ]
    }
   ],
   "execution_count": 8
  },
  {
   "metadata": {
    "ExecuteTime": {
     "end_time": "2025-07-20T05:15:25.162759Z",
     "start_time": "2025-07-20T05:15:25.157819Z"
    }
   },
   "cell_type": "code",
   "source": [
    "price_list = [[21000, 56900, 100, 21, 0]]\n",
    "price_array = np.array(price_list)\n",
    "print(f\"From list: {price_list}\")\n",
    "print(f\"From array: {price_array}\")\n",
    "print (f\"Shape {price_array.shape}\")"
   ],
   "id": "47a492003dbc7279",
   "outputs": [
    {
     "name": "stdout",
     "output_type": "stream",
     "text": [
      "From list: [[21000, 56900, 100, 21, 0]]\n",
      "From array: [[21000 56900   100    21     0]]\n",
      "Shape (1, 5)\n"
     ]
    }
   ],
   "execution_count": 9
  },
  {
   "metadata": {},
   "cell_type": "markdown",
   "source": "#### 1.2 Memory",
   "id": "a53fec0895efe166"
  },
  {
   "metadata": {
    "ExecuteTime": {
     "end_time": "2025-07-20T05:24:11.947506Z",
     "start_time": "2025-07-20T05:24:11.943930Z"
    }
   },
   "cell_type": "code",
   "source": [
    "size= 10000\n",
    "python_list = list(range(size))\n",
    "numpy_array = np.arange(size)"
   ],
   "id": "b31dbc413b096c5d",
   "outputs": [],
   "execution_count": 13
  },
  {
   "metadata": {
    "ExecuteTime": {
     "end_time": "2025-07-20T05:28:13.016926Z",
     "start_time": "2025-07-20T05:28:13.011714Z"
    }
   },
   "cell_type": "code",
   "source": [
    "list_memory = sys.getsizeof(python_list) + sum(sys.getsizeof(i) for i in python_list)\n",
    "array_memory = numpy_array.nbytes + numpy_array.__sizeof__()\n",
    "\n",
    "print(f\"List memory {list_memory}\")\n",
    "print(f\"Array memory {array_memory}\")"
   ],
   "id": "ffb88048f31689c",
   "outputs": [
    {
     "name": "stdout",
     "output_type": "stream",
     "text": [
      "List memory 360056\n",
      "Array memory 160112\n"
     ]
    }
   ],
   "execution_count": 16
  },
  {
   "metadata": {},
   "cell_type": "markdown",
   "source": "#### 1.3 Vectorization",
   "id": "4c18763c1911a27d"
  },
  {
   "metadata": {
    "ExecuteTime": {
     "end_time": "2025-07-20T06:25:02.396697Z",
     "start_time": "2025-07-20T06:25:02.391612Z"
    }
   },
   "cell_type": "code",
   "source": [
    "a_list = [1, 2, 3]\n",
    "a_array = np.array(a_list)\n",
    "\n",
    "a_list * 3, a_array * 3"
   ],
   "id": "bb73cd14174d55f3",
   "outputs": [
    {
     "data": {
      "text/plain": [
       "([1, 2, 3, 1, 2, 3, 1, 2, 3], array([3, 6, 9]))"
      ]
     },
     "execution_count": 39,
     "metadata": {},
     "output_type": "execute_result"
    }
   ],
   "execution_count": 39
  },
  {
   "metadata": {},
   "cell_type": "markdown",
   "source": [
    "[1 1 1 1 1 1]\n",
    "\n",
    "[[1]\n",
    " [1]\n",
    " [1]\n",
    " [1]\n",
    " [1]\n",
    " [1]]\n",
    "\n",
    "[[1 1 1 1 1 1]]"
   ],
   "id": "4e31e1f23b34c341"
  },
  {
   "metadata": {
    "ExecuteTime": {
     "end_time": "2025-07-20T06:25:48.905257Z",
     "start_time": "2025-07-20T06:25:48.901694Z"
    }
   },
   "cell_type": "code",
   "source": [
    "a = np.ones(6)\n",
    "b = np.ones((6, 1))\n",
    "c = np.ones((1, 6))\n",
    "\n",
    "ac = a + c\n",
    "ab = a + b\n",
    "bc = b + c"
   ],
   "id": "f910ccf2c7f5da53",
   "outputs": [],
   "execution_count": 40
  },
  {
   "metadata": {
    "ExecuteTime": {
     "end_time": "2025-07-20T06:28:28.290936Z",
     "start_time": "2025-07-20T06:28:28.285542Z"
    }
   },
   "cell_type": "code",
   "source": "ac, ab, bc",
   "id": "3ec6cbe1e0b3f09f",
   "outputs": [
    {
     "data": {
      "text/plain": [
       "(array([[2., 2., 2., 2., 2., 2.]]),\n",
       " array([[2., 2., 2., 2., 2., 2.],\n",
       "        [2., 2., 2., 2., 2., 2.],\n",
       "        [2., 2., 2., 2., 2., 2.],\n",
       "        [2., 2., 2., 2., 2., 2.],\n",
       "        [2., 2., 2., 2., 2., 2.],\n",
       "        [2., 2., 2., 2., 2., 2.]]),\n",
       " array([[2., 2., 2., 2., 2., 2.],\n",
       "        [2., 2., 2., 2., 2., 2.],\n",
       "        [2., 2., 2., 2., 2., 2.],\n",
       "        [2., 2., 2., 2., 2., 2.],\n",
       "        [2., 2., 2., 2., 2., 2.],\n",
       "        [2., 2., 2., 2., 2., 2.]]))"
      ]
     },
     "execution_count": 42,
     "metadata": {},
     "output_type": "execute_result"
    }
   ],
   "execution_count": 42
  },
  {
   "metadata": {},
   "cell_type": "markdown",
   "source": [
    "There are 3 students\n",
    "\n",
    "- Isuru (70, 60 ,50 ,40)\n",
    "- Kawshi (40, 50, 20, 10)\n",
    "- Lochana (90, 90, 80, 70)\n",
    "\n",
    "4 Subjects\n",
    "- Maths\n",
    "- Science\n",
    "- History\n",
    "- Health\n",
    "\n",
    "4 Weights\n",
    "- 0.5\n",
    "- 0.4\n",
    "- 0.07\n",
    "- 0.03"
   ],
   "id": "53e6d1cdcd964cfb"
  },
  {
   "metadata": {
    "ExecuteTime": {
     "end_time": "2025-07-20T06:57:00.062798Z",
     "start_time": "2025-07-20T06:57:00.055248Z"
    }
   },
   "cell_type": "code",
   "source": [
    "isuru = np.array([70, 60, 50, 40])\n",
    "kawshi = np.array([40, 50, 20, 10])\n",
    "lochana = np.array([90, 90, 80, 70])\n",
    "\n",
    "weights = np.array([0.5, 0.4, 0.07, 0.03])\n",
    "\n",
    "students = np.array([isuru, kawshi, lochana])"
   ],
   "id": "d27fdc5461b69f89",
   "outputs": [],
   "execution_count": 60
  },
  {
   "metadata": {
    "ExecuteTime": {
     "end_time": "2025-07-20T06:40:15.279300Z",
     "start_time": "2025-07-20T06:40:15.274012Z"
    }
   },
   "cell_type": "code",
   "source": "students * weights",
   "id": "22804ac342069f80",
   "outputs": [
    {
     "data": {
      "text/plain": [
       "array([[35. , 24. ,  3.5,  1.2],\n",
       "       [20. , 20. ,  1.4,  0.3],\n",
       "       [45. , 36. ,  5.6,  2.1]])"
      ]
     },
     "execution_count": 46,
     "metadata": {},
     "output_type": "execute_result"
    }
   ],
   "execution_count": 46
  },
  {
   "metadata": {},
   "cell_type": "markdown",
   "source": [
    "students -> 3 x 4\n",
    "weights -> (4,)\n"
   ],
   "id": "362b80e5b214cf3e"
  },
  {
   "metadata": {
    "ExecuteTime": {
     "end_time": "2025-07-20T06:43:37.075756Z",
     "start_time": "2025-07-20T06:43:37.070823Z"
    }
   },
   "cell_type": "code",
   "source": "students @ weights.reshape(4, 1)",
   "id": "8da9ef233c998ac",
   "outputs": [
    {
     "data": {
      "text/plain": [
       "array([[63.7],\n",
       "       [41.7],\n",
       "       [88.7]])"
      ]
     },
     "execution_count": 55,
     "metadata": {},
     "output_type": "execute_result"
    }
   ],
   "execution_count": 55
  }
 ],
 "metadata": {
  "kernelspec": {
   "display_name": "Python 3",
   "language": "python",
   "name": "python3"
  },
  "language_info": {
   "codemirror_mode": {
    "name": "ipython",
    "version": 2
   },
   "file_extension": ".py",
   "mimetype": "text/x-python",
   "name": "python",
   "nbconvert_exporter": "python",
   "pygments_lexer": "ipython2",
   "version": "2.7.6"
  }
 },
 "nbformat": 4,
 "nbformat_minor": 5
}
