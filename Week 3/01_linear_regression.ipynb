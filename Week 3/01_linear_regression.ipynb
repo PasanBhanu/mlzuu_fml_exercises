{
 "cells": [
  {
   "cell_type": "code",
   "id": "initial_id",
   "metadata": {
    "collapsed": true,
    "ExecuteTime": {
     "end_time": "2025-07-26T06:16:06.288547Z",
     "start_time": "2025-07-26T06:15:50.539463Z"
    }
   },
   "source": [
    "import numpy as np\n",
    "import pandas as pd\n",
    "import matplotlib.pyplot as plt"
   ],
   "outputs": [],
   "execution_count": 2
  },
  {
   "metadata": {
    "ExecuteTime": {
     "end_time": "2025-07-26T06:16:06.343111Z",
     "start_time": "2025-07-26T06:16:06.303036Z"
    }
   },
   "cell_type": "code",
   "source": [
    "df = pd.read_csv('data/raw/capstone_data.csv')\n",
    "df.head()"
   ],
   "id": "e95f2a2b4b197d3c",
   "outputs": [
    {
     "data": {
      "text/plain": [
       "                       MemberName  EducationLevel  Attendance  TotalHours  \\\n",
       "0           Theekshana Rathnayake               3        79.9        43.7   \n",
       "1  Mayura Sandakalum Sellapperuma               2        76.8        95.6   \n",
       "2                 Amila Narangoda               3        96.6        75.9   \n",
       "3                    Nisal Gamage               1        74.5        63.9   \n",
       "4                Tharusha Vihanga               2        83.2        24.0   \n",
       "\n",
       "   AssignmentsCompleted  HackathonParticipation  GitHubScore  PeerReviewScore  \\\n",
       "0                     2                       0         62.8              5.0   \n",
       "1                     6                       0         87.4              2.7   \n",
       "2                     8                       0         98.4              2.8   \n",
       "3                     7                       0         76.8              1.7   \n",
       "4                     6                       0         41.8              4.2   \n",
       "\n",
       "                    CourseName  CapstoneScore  \n",
       "0            Foundations of ML           45.3  \n",
       "1            Foundations of ML           78.8  \n",
       "2            Foundations of ML           65.4  \n",
       "3  Production-Ready ML Systems          100.0  \n",
       "4            Foundations of ML           40.1  "
      ],
      "text/html": [
       "<div>\n",
       "<style scoped>\n",
       "    .dataframe tbody tr th:only-of-type {\n",
       "        vertical-align: middle;\n",
       "    }\n",
       "\n",
       "    .dataframe tbody tr th {\n",
       "        vertical-align: top;\n",
       "    }\n",
       "\n",
       "    .dataframe thead th {\n",
       "        text-align: right;\n",
       "    }\n",
       "</style>\n",
       "<table border=\"1\" class=\"dataframe\">\n",
       "  <thead>\n",
       "    <tr style=\"text-align: right;\">\n",
       "      <th></th>\n",
       "      <th>MemberName</th>\n",
       "      <th>EducationLevel</th>\n",
       "      <th>Attendance</th>\n",
       "      <th>TotalHours</th>\n",
       "      <th>AssignmentsCompleted</th>\n",
       "      <th>HackathonParticipation</th>\n",
       "      <th>GitHubScore</th>\n",
       "      <th>PeerReviewScore</th>\n",
       "      <th>CourseName</th>\n",
       "      <th>CapstoneScore</th>\n",
       "    </tr>\n",
       "  </thead>\n",
       "  <tbody>\n",
       "    <tr>\n",
       "      <th>0</th>\n",
       "      <td>Theekshana Rathnayake</td>\n",
       "      <td>3</td>\n",
       "      <td>79.9</td>\n",
       "      <td>43.7</td>\n",
       "      <td>2</td>\n",
       "      <td>0</td>\n",
       "      <td>62.8</td>\n",
       "      <td>5.0</td>\n",
       "      <td>Foundations of ML</td>\n",
       "      <td>45.3</td>\n",
       "    </tr>\n",
       "    <tr>\n",
       "      <th>1</th>\n",
       "      <td>Mayura Sandakalum Sellapperuma</td>\n",
       "      <td>2</td>\n",
       "      <td>76.8</td>\n",
       "      <td>95.6</td>\n",
       "      <td>6</td>\n",
       "      <td>0</td>\n",
       "      <td>87.4</td>\n",
       "      <td>2.7</td>\n",
       "      <td>Foundations of ML</td>\n",
       "      <td>78.8</td>\n",
       "    </tr>\n",
       "    <tr>\n",
       "      <th>2</th>\n",
       "      <td>Amila Narangoda</td>\n",
       "      <td>3</td>\n",
       "      <td>96.6</td>\n",
       "      <td>75.9</td>\n",
       "      <td>8</td>\n",
       "      <td>0</td>\n",
       "      <td>98.4</td>\n",
       "      <td>2.8</td>\n",
       "      <td>Foundations of ML</td>\n",
       "      <td>65.4</td>\n",
       "    </tr>\n",
       "    <tr>\n",
       "      <th>3</th>\n",
       "      <td>Nisal Gamage</td>\n",
       "      <td>1</td>\n",
       "      <td>74.5</td>\n",
       "      <td>63.9</td>\n",
       "      <td>7</td>\n",
       "      <td>0</td>\n",
       "      <td>76.8</td>\n",
       "      <td>1.7</td>\n",
       "      <td>Production-Ready ML Systems</td>\n",
       "      <td>100.0</td>\n",
       "    </tr>\n",
       "    <tr>\n",
       "      <th>4</th>\n",
       "      <td>Tharusha Vihanga</td>\n",
       "      <td>2</td>\n",
       "      <td>83.2</td>\n",
       "      <td>24.0</td>\n",
       "      <td>6</td>\n",
       "      <td>0</td>\n",
       "      <td>41.8</td>\n",
       "      <td>4.2</td>\n",
       "      <td>Foundations of ML</td>\n",
       "      <td>40.1</td>\n",
       "    </tr>\n",
       "  </tbody>\n",
       "</table>\n",
       "</div>"
      ]
     },
     "execution_count": 3,
     "metadata": {},
     "output_type": "execute_result"
    }
   ],
   "execution_count": 3
  },
  {
   "metadata": {
    "ExecuteTime": {
     "end_time": "2025-07-26T06:16:50.262982Z",
     "start_time": "2025-07-26T06:16:50.247202Z"
    }
   },
   "cell_type": "code",
   "source": [
    "df = df[df['CourseName'] == 'Foundations of ML']\n",
    "df.head()"
   ],
   "id": "86be3545583f22c1",
   "outputs": [
    {
     "data": {
      "text/plain": [
       "                       MemberName  EducationLevel  Attendance  TotalHours  \\\n",
       "0           Theekshana Rathnayake               3        79.9        43.7   \n",
       "1  Mayura Sandakalum Sellapperuma               2        76.8        95.6   \n",
       "2                 Amila Narangoda               3        96.6        75.9   \n",
       "4                Tharusha Vihanga               2        83.2        24.0   \n",
       "7                  Chamath Perera               3        86.5        88.0   \n",
       "\n",
       "   AssignmentsCompleted  HackathonParticipation  GitHubScore  PeerReviewScore  \\\n",
       "0                     2                       0         62.8              5.0   \n",
       "1                     6                       0         87.4              2.7   \n",
       "2                     8                       0         98.4              2.8   \n",
       "4                     6                       0         41.8              4.2   \n",
       "7                     5                       0         23.9              1.3   \n",
       "\n",
       "          CourseName  CapstoneScore  \n",
       "0  Foundations of ML           45.3  \n",
       "1  Foundations of ML           78.8  \n",
       "2  Foundations of ML           65.4  \n",
       "4  Foundations of ML           40.1  \n",
       "7  Foundations of ML           68.2  "
      ],
      "text/html": [
       "<div>\n",
       "<style scoped>\n",
       "    .dataframe tbody tr th:only-of-type {\n",
       "        vertical-align: middle;\n",
       "    }\n",
       "\n",
       "    .dataframe tbody tr th {\n",
       "        vertical-align: top;\n",
       "    }\n",
       "\n",
       "    .dataframe thead th {\n",
       "        text-align: right;\n",
       "    }\n",
       "</style>\n",
       "<table border=\"1\" class=\"dataframe\">\n",
       "  <thead>\n",
       "    <tr style=\"text-align: right;\">\n",
       "      <th></th>\n",
       "      <th>MemberName</th>\n",
       "      <th>EducationLevel</th>\n",
       "      <th>Attendance</th>\n",
       "      <th>TotalHours</th>\n",
       "      <th>AssignmentsCompleted</th>\n",
       "      <th>HackathonParticipation</th>\n",
       "      <th>GitHubScore</th>\n",
       "      <th>PeerReviewScore</th>\n",
       "      <th>CourseName</th>\n",
       "      <th>CapstoneScore</th>\n",
       "    </tr>\n",
       "  </thead>\n",
       "  <tbody>\n",
       "    <tr>\n",
       "      <th>0</th>\n",
       "      <td>Theekshana Rathnayake</td>\n",
       "      <td>3</td>\n",
       "      <td>79.9</td>\n",
       "      <td>43.7</td>\n",
       "      <td>2</td>\n",
       "      <td>0</td>\n",
       "      <td>62.8</td>\n",
       "      <td>5.0</td>\n",
       "      <td>Foundations of ML</td>\n",
       "      <td>45.3</td>\n",
       "    </tr>\n",
       "    <tr>\n",
       "      <th>1</th>\n",
       "      <td>Mayura Sandakalum Sellapperuma</td>\n",
       "      <td>2</td>\n",
       "      <td>76.8</td>\n",
       "      <td>95.6</td>\n",
       "      <td>6</td>\n",
       "      <td>0</td>\n",
       "      <td>87.4</td>\n",
       "      <td>2.7</td>\n",
       "      <td>Foundations of ML</td>\n",
       "      <td>78.8</td>\n",
       "    </tr>\n",
       "    <tr>\n",
       "      <th>2</th>\n",
       "      <td>Amila Narangoda</td>\n",
       "      <td>3</td>\n",
       "      <td>96.6</td>\n",
       "      <td>75.9</td>\n",
       "      <td>8</td>\n",
       "      <td>0</td>\n",
       "      <td>98.4</td>\n",
       "      <td>2.8</td>\n",
       "      <td>Foundations of ML</td>\n",
       "      <td>65.4</td>\n",
       "    </tr>\n",
       "    <tr>\n",
       "      <th>4</th>\n",
       "      <td>Tharusha Vihanga</td>\n",
       "      <td>2</td>\n",
       "      <td>83.2</td>\n",
       "      <td>24.0</td>\n",
       "      <td>6</td>\n",
       "      <td>0</td>\n",
       "      <td>41.8</td>\n",
       "      <td>4.2</td>\n",
       "      <td>Foundations of ML</td>\n",
       "      <td>40.1</td>\n",
       "    </tr>\n",
       "    <tr>\n",
       "      <th>7</th>\n",
       "      <td>Chamath Perera</td>\n",
       "      <td>3</td>\n",
       "      <td>86.5</td>\n",
       "      <td>88.0</td>\n",
       "      <td>5</td>\n",
       "      <td>0</td>\n",
       "      <td>23.9</td>\n",
       "      <td>1.3</td>\n",
       "      <td>Foundations of ML</td>\n",
       "      <td>68.2</td>\n",
       "    </tr>\n",
       "  </tbody>\n",
       "</table>\n",
       "</div>"
      ]
     },
     "execution_count": 4,
     "metadata": {},
     "output_type": "execute_result"
    }
   ],
   "execution_count": 4
  },
  {
   "metadata": {
    "ExecuteTime": {
     "end_time": "2025-07-26T06:21:20.094722Z",
     "start_time": "2025-07-26T06:21:20.091853Z"
    }
   },
   "cell_type": "code",
   "source": [
    "X = df['TotalHours'].values\n",
    "Y = df['CapstoneScore'].values"
   ],
   "id": "3feccebbf73f818b",
   "outputs": [],
   "execution_count": 11
  },
  {
   "metadata": {
    "ExecuteTime": {
     "end_time": "2025-07-26T06:21:21.220520Z",
     "start_time": "2025-07-26T06:21:21.132070Z"
    }
   },
   "cell_type": "code",
   "source": [
    "plt.figure(figsize=(10,6))\n",
    "plt.scatter(X, Y, alpha=0.7, color='blue', s=50)\n",
    "plt.xlabel('Total Hours')\n",
    "plt.ylabel('CapstoneScore')"
   ],
   "id": "8704727c458e6a43",
   "outputs": [
    {
     "data": {
      "text/plain": [
       "Text(0, 0.5, 'CapstoneScore')"
      ]
     },
     "execution_count": 12,
     "metadata": {},
     "output_type": "execute_result"
    },
    {
     "data": {
      "text/plain": [
       "<Figure size 1000x600 with 1 Axes>"
      ],
      "image/png": "[encoded data removed]"
     },
     "metadata": {},
     "output_type": "display_data"
    }
   ],
   "execution_count": 12
  },
  {
   "metadata": {},
   "cell_type": "markdown",
   "source": [
    "- X, Y\n",
    "- Compute Cost\n",
    "- Compute Gradient\n",
    "- Apply Gradient Descent\n",
    "\n",
    "optimal beta0, beta1\n",
    "\n",
    "- n = 0.0001, 0.001, 0.01, 0.1, 1\n",
    "\n",
    "- Try for multiple features"
   ],
   "id": "d55be4db5b8774b1"
  }
 ],
 "metadata": {
  "kernelspec": {
   "display_name": "Python 3",
   "language": "python",
   "name": "python3"
  },
  "language_info": {
   "codemirror_mode": {
    "name": "ipython",
    "version": 2
   },
   "file_extension": ".py",
   "mimetype": "text/x-python",
   "name": "python",
   "nbconvert_exporter": "python",
   "pygments_lexer": "ipython2",
   "version": "2.7.6"
  }
 },
 "nbformat": 4,
 "nbformat_minor": 5
}
